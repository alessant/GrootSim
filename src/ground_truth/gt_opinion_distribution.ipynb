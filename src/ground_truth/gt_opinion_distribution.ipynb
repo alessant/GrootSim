{
 "cells": [
  {
   "cell_type": "code",
   "execution_count": 1,
   "metadata": {},
   "outputs": [
    {
     "name": "stderr",
     "output_type": "stream",
     "text": [
      "\u001b[32m\u001b[1mPrecompiling\u001b[22m\u001b[39m GrootSim\n",
      "\u001b[32m  ✓ \u001b[39mGrootSim\n",
      "  1 dependency successfully precompiled in 5 seconds. 89 already precompiled.\n"
     ]
    }
   ],
   "source": [
    "using GrootSim\n",
    "\n",
    "using CSV\n",
    "using DataFrames\n",
    "using Dates\n",
    "using DotEnv\n",
    "DotEnv.load!()\n",
    "using PyPlot\n",
    "using Serialization\n",
    "using SimpleHypergraphs\n",
    "using Statistics\n",
    "\n",
    "using PyCall\n",
    "pickle = pyimport(\"pickle\");"
   ]
  },
  {
   "cell_type": "markdown",
   "metadata": {},
   "source": [
    "## Loading data"
   ]
  },
  {
   "cell_type": "code",
   "execution_count": 3,
   "metadata": {},
   "outputs": [
    {
     "data": {
      "text/plain": [
       "load_params (generic function with 1 method)"
      ]
     },
     "execution_count": 3,
     "metadata": {},
     "output_type": "execute_result"
    }
   ],
   "source": [
    "function load_params(precomputed_path; subreddits_to_include=nothing)\n",
    "    # * reddit-related params\n",
    "    basepath = ENV[\"BASEPATH\"]\n",
    "    datapath = ENV[\"DATA_PATH\"]\n",
    "    data_to_include_path = ENV[\"DATA_TO_INCLUDE_PATH\"]\n",
    "\n",
    "    # * loading the data\n",
    "    reddittors_to_include = Set(pickle.load(open(joinpath(data_to_include_path, \"final_users_to_include.pkl\"))))\n",
    "    subs_to_include = (pickle.load(open(joinpath(data_to_include_path, \"final_subs_to_include.pkl\"))))\n",
    "    subs_to_include = Set([sub_id[4:end] for sub_id in subs_to_include])\n",
    "\n",
    "    # * loading the most active users,\n",
    "    # * namely the users with at least two actions\n",
    "    most_active_users = deserialize(joinpath(precomputed_path, \"most_active_users.ser\"))\n",
    "\n",
    "    # * loading the simulation intervals\n",
    "    sim_intervals = deserialize(joinpath(precomputed_path, \"sim_intervals.ser\"))\n",
    "\n",
    "    # * loading active intervals per users\n",
    "    active_intervals_per_user = deserialize(joinpath(precomputed_path, \"active_intervals_per_user.ser\"))\n",
    "\n",
    "    # * loading user opinions from ground-truth\n",
    "    gt_user_opinions = get_true_user_stance(\n",
    "        datapath,\n",
    "        subs_to_include,\n",
    "        reddittors_to_include;\n",
    "        subreddits_to_include=subreddits_to_include\n",
    "    )\n",
    "\n",
    "    # * loading the user opinions per interval\n",
    "    gt_user_opinions_per_interval = get_avg_user_opinion_per_interval(\n",
    "        gt_user_opinions,\n",
    "        sim_intervals\n",
    "    )\n",
    "\n",
    "    return most_active_users, sim_intervals, active_intervals_per_user, gt_user_opinions, gt_user_opinions_per_interval\n",
    "end"
   ]
  },
  {
   "cell_type": "code",
   "execution_count": 4,
   "metadata": {},
   "outputs": [],
   "source": [
    "precomputed_params_path = joinpath(ENV[\"PRECOMPUTED_PARAMS_PATH\"], \"day\", \"all\");"
   ]
  },
  {
   "cell_type": "code",
   "execution_count": 5,
   "metadata": {},
   "outputs": [
    {
     "name": "stdout",
     "output_type": "stream",
     "text": [
      "subreddit_name: AskReddit\n",
      "subreddit_name: California\n",
      "subreddit_name: bayarea\n",
      "subreddit_name: collapse\n",
      "subreddit_name: news\n",
      "subreddit_name: politics\n"
     ]
    },
    {
     "data": {
      "text/plain": [
       "([:t2_12ggve, :t2_pdoeucf5, :t2_90b6qnh4, :t2_g8q34, :t2_4lewvnt3, :t2_dvl2ba5q, :t2_2jutnueu, :t2_icclc, :t2_m1iv6hg, :t2_2rrsi0i8  …  :t2_bidg8, :t2_obx4b, :t2_897wp, :t2_m26brs75, :t2_dp4h22a, :t2_11rbnv, :t2_4m62ya2u, :t2_11v20w, :t2_8mztllz6, :t2_ap53n], [DateTime(\"2020-07-01T13:18:10\") => DateTime(\"2020-07-02T00:00:00\"), DateTime(\"2020-07-02T13:42:05\") => DateTime(\"2020-07-03T00:00:00\"), DateTime(\"2020-07-02T13:42:05\") => DateTime(\"2020-07-04T00:00:00\"), DateTime(\"2020-07-04T11:22:19\") => DateTime(\"2020-07-05T00:00:00\"), DateTime(\"2020-07-05T17:44:15\") => DateTime(\"2020-07-06T00:00:00\"), DateTime(\"2020-07-06T21:46:47\") => DateTime(\"2020-07-07T00:00:00\"), DateTime(\"2020-07-07T22:34:04\") => DateTime(\"2020-07-08T00:00:00\"), DateTime(\"2020-07-08T20:10:43\") => DateTime(\"2020-07-09T00:00:00\"), DateTime(\"2020-07-09T01:21:59\") => DateTime(\"2020-07-10T00:00:00\"), DateTime(\"2020-07-10T17:51:48\") => DateTime(\"2020-07-11T00:00:00\")  …  DateTime(\"2022-12-17T00:36:19\") => DateTime(\"2022-12-19T00:00:00\"), DateTime(\"2022-12-20T13:55:44\") => DateTime(\"2022-12-21T00:00:00\"), DateTime(\"2022-12-20T13:55:44\") => DateTime(\"2022-12-22T00:00:00\"), DateTime(\"2022-12-23T23:34:35\") => DateTime(\"2022-12-24T00:00:00\"), DateTime(\"2022-12-23T23:34:35\") => DateTime(\"2022-12-25T00:00:00\"), DateTime(\"2022-12-25T17:00:02\") => DateTime(\"2022-12-26T00:00:00\"), DateTime(\"2022-12-26T06:58:30\") => DateTime(\"2022-12-27T00:00:00\"), DateTime(\"2022-12-26T06:58:30\") => DateTime(\"2022-12-28T00:00:00\"), DateTime(\"2022-12-29T00:20:39\") => DateTime(\"2022-12-30T00:00:00\"), DateTime(\"2022-12-29T00:20:39\") => DateTime(\"2022-12-31T00:00:00\")], Dict{Symbol, Vector{Bool}}(:t2_7lqmgaj4 => [0, 0, 0, 0, 0, 0, 0, 0, 0, 0  …  0, 0, 0, 0, 0, 0, 0, 0, 0, 0], :t2_16g8da => [0, 0, 0, 0, 0, 0, 0, 0, 0, 0  …  0, 0, 0, 0, 0, 0, 0, 0, 0, 0], :t2_12ggve => [0, 0, 0, 0, 0, 0, 0, 0, 0, 0  …  0, 0, 0, 0, 0, 0, 0, 0, 0, 0], :t2_bzc21lie => [0, 0, 0, 0, 0, 0, 0, 0, 0, 0  …  0, 0, 0, 0, 0, 0, 0, 0, 0, 0], :t2_a2a363me => [0, 0, 0, 0, 0, 0, 0, 0, 0, 0  …  0, 0, 0, 0, 0, 0, 0, 0, 0, 0], :t2_2bzj2rvb => [0, 0, 0, 0, 0, 0, 0, 0, 0, 0  …  0, 0, 0, 0, 0, 0, 0, 0, 0, 0], :t2_o7xegsro => [0, 0, 0, 0, 0, 0, 0, 0, 0, 0  …  0, 0, 0, 0, 0, 0, 0, 0, 0, 0], :t2_15tamd => [0, 0, 0, 0, 0, 0, 0, 0, 0, 0  …  0, 0, 0, 0, 0, 0, 0, 0, 0, 0], :t2_6x9vmpxm => [0, 0, 0, 0, 0, 0, 0, 0, 0, 0  …  0, 0, 0, 0, 0, 0, 0, 0, 0, 0], :t2_xnbye => [0, 0, 0, 0, 0, 0, 0, 0, 0, 0  …  0, 0, 0, 0, 0, 0, 0, 0, 0, 0]…), Dict{Symbol, Array{Pair{DateTime, Float64}}}(:t2_12ggve => [DateTime(\"2022-08-16T08:09:33\") => 0.0, DateTime(\"2022-08-03T17:08:07\") => 0.05, DateTime(\"2022-06-23T16:39:45\") => 0.8, DateTime(\"2022-06-16T17:26:13\") => 0.75, DateTime(\"2022-06-16T17:24:26\") => 0.0, DateTime(\"2022-06-16T14:28:10\") => 0.0, DateTime(\"2022-06-16T14:19:49\") => 0.0, DateTime(\"2022-06-16T05:54:53\") => 0.5, DateTime(\"2022-06-16T05:50:59\") => 0.0, DateTime(\"2022-06-16T05:45:34\") => 0.5  …  DateTime(\"2022-04-28T07:28:09\") => 0.6, DateTime(\"2022-04-28T07:26:33\") => 0.8, DateTime(\"2022-04-28T07:09:14\") => 0.9, DateTime(\"2022-02-06T06:00:12\") => 0.0, DateTime(\"2022-02-06T05:59:53\") => 0.0, DateTime(\"2022-02-04T17:03:48\") => 1.0, DateTime(\"2022-02-04T08:10:44\") => 0.5, DateTime(\"2022-02-02T19:49:01\") => 0.75, DateTime(\"2022-04-03T19:14:15\") => 0.95, DateTime(\"2020-08-20T06:25:55\") => 0.25], :t2_xnbye => [DateTime(\"2021-02-22T19:52:08\") => 0.7], :t2_pdoeucf5 => [DateTime(\"2022-07-25T21:20:14\") => 0.0, DateTime(\"2022-07-25T21:17:31\") => 0.1, DateTime(\"2022-07-25T21:15:40\") => 0.8, DateTime(\"2022-07-25T21:12:01\") => 0.2, DateTime(\"2022-07-10T14:22:49\") => 0.0, DateTime(\"2022-07-10T14:12:57\") => 0.0, DateTime(\"2022-07-10T14:11:37\") => 0.0, DateTime(\"2022-07-10T14:10:07\") => 0.5], :t2_e62d3 => [DateTime(\"2021-07-19T18:46:30\") => 0.5], :t2_kjymj => [DateTime(\"2021-11-02T18:09:29\") => 0.25, DateTime(\"2021-09-07T14:58:46\") => 0.25], :t2_cdvfi6jy => [DateTime(\"2021-06-10T01:41:11\") => 0.0], :t2_90b6qnh4 => [DateTime(\"2021-07-08T03:31:42\") => 0.95, DateTime(\"2021-03-17T11:32:33\") => 0.9, DateTime(\"2021-03-17T11:31:41\") => 0.1, DateTime(\"2021-03-17T11:30:32\") => 0.0], :t2_dhw0dknw => [DateTime(\"2021-07-29T08:36:46\") => 0.0, DateTime(\"2021-07-29T08:14:54\") => 0.0], :t2_10d5f0 => [DateTime(\"2020-08-05T18:57:36\") => 0.5], :t2_119k81 => [DateTime(\"2020-11-17T03:40:50\") => 0.0]…), Dict{Symbol, Vector{Union{Nothing, Float64}}}(:t2_12ggve => [nothing, nothing, nothing, nothing, nothing, nothing, nothing, nothing, nothing, nothing  …  nothing, nothing, nothing, nothing, nothing, nothing, nothing, nothing, nothing, nothing], :t2_xnbye => [nothing, nothing, nothing, nothing, nothing, nothing, nothing, nothing, nothing, nothing  …  nothing, nothing, nothing, nothing, nothing, nothing, nothing, nothing, nothing, nothing], :t2_pdoeucf5 => [nothing, nothing, nothing, nothing, nothing, nothing, nothing, nothing, nothing, nothing  …  nothing, nothing, nothing, nothing, nothing, nothing, nothing, nothing, nothing, nothing], :t2_e62d3 => [nothing, nothing, nothing, nothing, nothing, nothing, nothing, nothing, nothing, nothing  …  nothing, nothing, nothing, nothing, nothing, nothing, nothing, nothing, nothing, nothing], :t2_kjymj => [nothing, nothing, nothing, nothing, nothing, nothing, nothing, nothing, nothing, nothing  …  nothing, nothing, nothing, nothing, nothing, nothing, nothing, nothing, nothing, nothing], :t2_cdvfi6jy => [nothing, nothing, nothing, nothing, nothing, nothing, nothing, nothing, nothing, nothing  …  nothing, nothing, nothing, nothing, nothing, nothing, nothing, nothing, nothing, nothing], :t2_90b6qnh4 => [nothing, nothing, nothing, nothing, nothing, nothing, nothing, nothing, nothing, nothing  …  nothing, nothing, nothing, nothing, nothing, nothing, nothing, nothing, nothing, nothing], :t2_dhw0dknw => [nothing, nothing, nothing, nothing, nothing, nothing, nothing, nothing, nothing, nothing  …  nothing, nothing, nothing, nothing, nothing, nothing, nothing, nothing, nothing, nothing], :t2_10d5f0 => [nothing, nothing, nothing, nothing, nothing, nothing, nothing, nothing, nothing, nothing  …  nothing, nothing, nothing, nothing, nothing, nothing, nothing, nothing, nothing, nothing], :t2_119k81 => [nothing, nothing, nothing, nothing, nothing, nothing, nothing, nothing, nothing, nothing  …  nothing, nothing, nothing, nothing, nothing, nothing, nothing, nothing, nothing, nothing]…))"
      ]
     },
     "execution_count": 5,
     "metadata": {},
     "output_type": "execute_result"
    }
   ],
   "source": [
    "most_active_users, sim_intervals, active_intervals_per_user, gt_user_opinions, gt_user_opinions_per_interval = \n",
    "    load_params(precomputed_params_path)\n"
   ]
  },
  {
   "cell_type": "markdown",
   "metadata": {},
   "source": [
    "## Get the last users' opinions in the GT"
   ]
  },
  {
   "cell_type": "code",
   "execution_count": 10,
   "metadata": {},
   "outputs": [
    {
     "data": {
      "text/plain": [
       "Float64[]"
      ]
     },
     "execution_count": 10,
     "metadata": {},
     "output_type": "execute_result"
    }
   ],
   "source": [
    "last_opinions = Array{Float64, 1}()"
   ]
  },
  {
   "cell_type": "code",
   "execution_count": 11,
   "metadata": {},
   "outputs": [],
   "source": [
    "for user in most_active_users\n",
    "    user_opinions = gt_user_opinions[user]\n",
    "    sorted_user_opinions = sort(user_opinions, by=x->x[1])\n",
    "    push!(last_opinions, user_opinions[end].second)\n",
    "end"
   ]
  },
  {
   "cell_type": "code",
   "execution_count": 12,
   "metadata": {},
   "outputs": [
    {
     "data": {
      "text/plain": [
       "7-element Vector{Float64}:\n",
       " 0.0\n",
       " 0.15\n",
       " 0.3\n",
       " 0.5\n",
       " 0.5\n",
       " 0.75\n",
       " 0.9"
      ]
     },
     "execution_count": 12,
     "metadata": {},
     "output_type": "execute_result"
    }
   ],
   "source": [
    "quantile(last_opinions, [0.3, 0.4, 0.5, 0.6, 0.7, 0.8, 0.9])"
   ]
  },
  {
   "cell_type": "code",
   "execution_count": 13,
   "metadata": {},
   "outputs": [
    {
     "data": {
      "image/png": "[encoded data removed]",
      "text/plain": [
       "Figure(PyObject <Figure size 800x800 with 1 Axes>)"
      ]
     },
     "metadata": {},
     "output_type": "display_data"
    }
   ],
   "source": [
    "boxplot(last_opinions, showmeans=true, showfliers=false);"
   ]
  },
  {
   "cell_type": "markdown",
   "metadata": {},
   "source": [
    "## Thrs vectors"
   ]
  },
  {
   "cell_type": "code",
   "execution_count": 14,
   "metadata": {},
   "outputs": [],
   "source": [
    "my_step = 0.1\n",
    "\n",
    "two_thrs = []\n",
    "two_thrs_labels = []\n",
    "for thr1 in 0.1:my_step:0.99\n",
    "    for thr2 in 0.9:-my_step:0.1\n",
    "        thr2 <= thr1 && continue\n",
    "        push!(two_thrs, [-1.1, thr1, thr2, 1.1])\n",
    "        push!(two_thrs_labels, \"[$thr1, $thr2]\")\n",
    "    end\n",
    "end\n",
    "\n",
    "three_thrs = []\n",
    "three_thrs_labels = []\n",
    "for thr1 in 0.1:my_step:0.99\n",
    "    for thr2 in 0.1:my_step:0.99\n",
    "        thr2 <= thr1 && continue\n",
    "        for thr3 in 0.1:my_step:0.99\n",
    "            thr3 <= thr2 && continue\n",
    "            push!(three_thrs, [-1.1, thr1, thr2, thr3, 1.1])\n",
    "            push!(three_thrs_labels, \"[$thr1, $thr2, $thr3]\")\n",
    "        end  \n",
    "    end\n",
    "end"
   ]
  },
  {
   "cell_type": "markdown",
   "metadata": {},
   "source": [
    "## Plot-related utils"
   ]
  },
  {
   "cell_type": "code",
   "execution_count": 15,
   "metadata": {},
   "outputs": [
    {
     "data": {
      "text/plain": [
       "prepare_data (generic function with 1 method)"
      ]
     },
     "execution_count": 15,
     "metadata": {},
     "output_type": "execute_result"
    }
   ],
   "source": [
    "function prepare_data(opinions::Array{Array{Int, 1}, 1}, n_thrs)\n",
    "    to_return = Array{Array{Float64, 1}, 1}()\n",
    "    \n",
    "    for (idx, _op) in enumerate(opinions)\n",
    "        n_ops = length(_op) # this number should be equal to the number of users\n",
    "        # idx < 10 && println(n_ops)\n",
    "\n",
    "        if n_thrs == 2\n",
    "            negative = length([op for op in _op if op == 1])/n_ops\n",
    "            neutral = length([op for op in _op if op == 2])/n_ops\n",
    "            positive = length([op for op in _op if op == 3])/n_ops\n",
    "\n",
    "            push!(to_return, [negative, neutral, positive])\n",
    "\n",
    "        elseif n_thrs == 3\n",
    "            negative = length([op for op in _op if op == 1])/n_ops\n",
    "            towards_negative = length([op for op in _op if op == 2])/n_ops\n",
    "            towards_positive = length([op for op in _op if op == 3])/n_ops\n",
    "            positive = length([op for op in _op if op == 4])/n_ops\n",
    "\n",
    "            push!(to_return, [negative, towards_negative, towards_positive, positive])\n",
    "        end\n",
    "    end\n",
    "\n",
    "    to_return\n",
    "end"
   ]
  },
  {
   "cell_type": "code",
   "execution_count": 16,
   "metadata": {},
   "outputs": [
    {
     "data": {
      "text/plain": [
       "generate_bar_plot (generic function with 1 method)"
      ]
     },
     "execution_count": 16,
     "metadata": {},
     "output_type": "execute_result"
    }
   ],
   "source": [
    "function generate_bar_plot(ax, data)\n",
    "\n",
    "    bottom = zeros(length(data))\n",
    "\n",
    "    for (thr_idx, opinion_data) in enumerate(data)\n",
    "        for (idx, d) in enumerate(opinion_data)\n",
    "            ax.bar(\n",
    "                thr_idx,\n",
    "                d,\n",
    "                width,\n",
    "                label=labels[idx],\n",
    "                color=colors[idx],\n",
    "                bottom=bottom[thr_idx]\n",
    "            )\n",
    "            bottom[thr_idx] += d\n",
    "        end\n",
    "        # sim_interval > 10 && break\n",
    "    end\n",
    "end"
   ]
  },
  {
   "cell_type": "markdown",
   "metadata": {},
   "source": [
    "## Let's check the distribution (after binning the opinions)"
   ]
  },
  {
   "cell_type": "markdown",
   "metadata": {},
   "source": [
    "### Two thresholds - three bands"
   ]
  },
  {
   "cell_type": "code",
   "execution_count": 17,
   "metadata": {},
   "outputs": [],
   "source": [
    "thrs_vector = two_thrs\n",
    "opinions_per_2thrs = Array{Array{Int, 1}, 1}()\n",
    ";"
   ]
  },
  {
   "cell_type": "code",
   "execution_count": 18,
   "metadata": {},
   "outputs": [],
   "source": [
    "for thr in thrs_vector\n",
    "   opinions = Array{Int, 1}()\n",
    "\n",
    "   for last_op in last_opinions\n",
    "       binned_op = GrootSim._binning_opinions([last_op], thr)\n",
    "\n",
    "        length(something.(binned_op)) > 1 && println(\"error\")\n",
    "\n",
    "       push!(opinions, something.(binned_op)[1])\n",
    "   end\n",
    "\n",
    "    push!(opinions_per_2thrs, opinions)\n",
    "end"
   ]
  },
  {
   "cell_type": "code",
   "execution_count": 19,
   "metadata": {},
   "outputs": [
    {
     "data": {
      "text/plain": [
       "36-element Vector{Vector{Int64}}:\n",
       " [2, 2, 1, 1, 2, 2, 1, 2, 1, 1  …  1, 2, 3, 1, 2, 1, 2, 2, 1, 1]\n",
       " [2, 2, 1, 1, 2, 2, 1, 2, 1, 1  …  1, 2, 3, 1, 2, 1, 2, 2, 1, 1]\n",
       " [2, 2, 1, 1, 2, 2, 1, 2, 1, 1  …  1, 2, 3, 1, 2, 1, 2, 2, 1, 1]\n",
       " [2, 2, 1, 1, 2, 2, 1, 2, 1, 1  …  1, 2, 3, 1, 2, 1, 2, 2, 1, 1]\n",
       " [2, 3, 1, 1, 2, 2, 1, 2, 1, 1  …  1, 2, 3, 1, 2, 1, 2, 3, 1, 1]\n",
       " [2, 3, 1, 1, 2, 3, 1, 3, 1, 1  …  1, 2, 3, 1, 2, 1, 2, 3, 1, 1]\n",
       " [2, 3, 1, 1, 2, 3, 1, 3, 1, 1  …  1, 2, 3, 1, 2, 1, 2, 3, 1, 1]\n",
       " [3, 3, 1, 1, 2, 3, 1, 3, 1, 1  …  1, 2, 3, 1, 3, 1, 2, 3, 1, 1]\n",
       " [2, 2, 1, 1, 1, 2, 1, 2, 1, 1  …  1, 1, 3, 1, 2, 1, 1, 2, 1, 1]\n",
       " [2, 2, 1, 1, 1, 2, 1, 2, 1, 1  …  1, 1, 3, 1, 2, 1, 1, 2, 1, 1]\n",
       " [2, 2, 1, 1, 1, 2, 1, 2, 1, 1  …  1, 1, 3, 1, 2, 1, 1, 2, 1, 1]\n",
       " [2, 2, 1, 1, 1, 2, 1, 2, 1, 1  …  1, 1, 3, 1, 2, 1, 1, 2, 1, 1]\n",
       " [2, 3, 1, 1, 1, 2, 1, 2, 1, 1  …  1, 1, 3, 1, 2, 1, 1, 3, 1, 1]\n",
       " ⋮\n",
       " [1, 2, 1, 1, 1, 2, 1, 2, 1, 1  …  1, 1, 3, 1, 1, 1, 1, 2, 1, 1]\n",
       " [1, 3, 1, 1, 1, 2, 1, 2, 1, 1  …  1, 1, 3, 1, 1, 1, 1, 3, 1, 1]\n",
       " [1, 2, 1, 1, 1, 1, 1, 1, 1, 1  …  1, 1, 3, 1, 1, 1, 1, 2, 1, 1]\n",
       " [1, 2, 1, 1, 1, 1, 1, 1, 1, 1  …  1, 1, 3, 1, 1, 1, 1, 2, 1, 1]\n",
       " [1, 2, 1, 1, 1, 1, 1, 1, 1, 1  …  1, 1, 3, 1, 1, 1, 1, 2, 1, 1]\n",
       " [1, 2, 1, 1, 1, 1, 1, 1, 1, 1  …  1, 1, 3, 1, 1, 1, 1, 2, 1, 1]\n",
       " [1, 1, 1, 1, 1, 1, 1, 1, 1, 1  …  1, 1, 3, 1, 1, 1, 1, 1, 1, 1]\n",
       " [1, 1, 1, 1, 1, 1, 1, 1, 1, 1  …  1, 1, 3, 1, 1, 1, 1, 1, 1, 1]\n",
       " [1, 1, 1, 1, 1, 1, 1, 1, 1, 1  …  1, 1, 3, 1, 1, 1, 1, 1, 1, 1]\n",
       " [1, 1, 1, 1, 1, 1, 1, 1, 1, 1  …  1, 1, 3, 1, 1, 1, 1, 1, 1, 1]\n",
       " [1, 1, 1, 1, 1, 1, 1, 1, 1, 1  …  1, 1, 3, 1, 1, 1, 1, 1, 1, 1]\n",
       " [1, 1, 1, 1, 1, 1, 1, 1, 1, 1  …  1, 1, 3, 1, 1, 1, 1, 1, 1, 1]"
      ]
     },
     "execution_count": 19,
     "metadata": {},
     "output_type": "execute_result"
    }
   ],
   "source": [
    "opinions_per_2thrs"
   ]
  },
  {
   "cell_type": "code",
   "execution_count": 20,
   "metadata": {},
   "outputs": [
    {
     "data": {
      "text/plain": [
       "36-element Vector{Vector{Float64}}:\n",
       " [0.35003066857493353, 0.525250460028624, 0.12471887139644244]\n",
       " [0.35003066857493353, 0.4664349485449465, 0.18353438288011995]\n",
       " [0.35003066857493353, 0.40721052272882163, 0.2427588086962448]\n",
       " [0.35003066857493353, 0.3891501397123969, 0.26081919171266954]\n",
       " [0.35003066857493353, 0.16901792407823893, 0.4809514073468275]\n",
       " [0.35003066857493353, 0.15511483677502896, 0.4948544946500375]\n",
       " [0.35003066857493353, 0.13943978736454712, 0.5105295440605193]\n",
       " [0.35003066857493353, 0.05295440605193212, 0.5970149253731343]\n",
       " [0.40298507462686567, 0.4722960539766919, 0.12471887139644244]\n",
       " [0.40298507462686567, 0.41348054249301436, 0.18353438288011995]\n",
       " [0.40298507462686567, 0.3542561166768895, 0.2427588086962448]\n",
       " [0.40298507462686567, 0.3361957336604648, 0.26081919171266954]\n",
       " [0.40298507462686567, 0.11606351802630682, 0.4809514073468275]\n",
       " ⋮\n",
       " [0.5051455053499625, 0.23403530293736796, 0.26081919171266954]\n",
       " [0.5051455053499625, 0.013903087303209978, 0.4809514073468275]\n",
       " [0.5190485926531725, 0.35623253595038507, 0.12471887139644244]\n",
       " [0.5190485926531725, 0.29741702446670754, 0.18353438288011995]\n",
       " [0.5190485926531725, 0.2381925986505827, 0.2427588086962448]\n",
       " [0.5190485926531725, 0.22013221563415797, 0.26081919171266954]\n",
       " [0.7391808082873305, 0.1361003203162271, 0.12471887139644244]\n",
       " [0.7391808082873305, 0.07728480883254958, 0.18353438288011995]\n",
       " [0.7391808082873305, 0.018060383016424725, 0.2427588086962448]\n",
       " [0.7572411913037552, 0.11803993729980236, 0.12471887139644244]\n",
       " [0.7572411913037552, 0.05922442581612485, 0.18353438288011995]\n",
       " [0.8164656171198801, 0.0588155114836775, 0.12471887139644244]"
      ]
     },
     "execution_count": 20,
     "metadata": {},
     "output_type": "execute_result"
    }
   ],
   "source": [
    "# prepare the data to plot -> stacked bar chart\n",
    "data_to_plot_two_thrs = prepare_data(opinions_per_2thrs, 2)"
   ]
  },
  {
   "cell_type": "code",
   "execution_count": 22,
   "metadata": {},
   "outputs": [
    {
     "data": {
      "image/png": "[encoded data removed]",
      "text/plain": [
       "Figure(PyObject <Figure size 1000x600 with 1 Axes>)"
      ]
     },
     "metadata": {},
     "output_type": "display_data"
    }
   ],
   "source": [
    "clf()\n",
    "\n",
    "fig, ax = plt.subplots(1, 1, figsize=(10, 6))\n",
    "\n",
    "labels = [\"negative\", \"neutral\", \"positive\"]\n",
    "colors = [\"blue\", \"orange\", \"green\"]\n",
    "width = 1\n",
    "\n",
    "generate_bar_plot(ax, data_to_plot_two_thrs)\n",
    "\n",
    "# # x infos\n",
    "# # set x axis labels\n",
    "ax.set_xlabel(\"Thresholds\")\n",
    "ax.set_xticks(1:length(two_thrs))\n",
    "ax.set_xticklabels(two_thrs_labels, rotation=90)\n",
    "\n",
    "# # set y axis labels\n",
    "ax.set_ylabel(\"Fraction of users\")\n",
    "\n",
    "# # set titles\n",
    "ax.set_title(\"User opinions distribution\")\n",
    "\n",
    "ax.legend(labels, loc=\"upper right\", bbox_to_anchor=(1.17, 1.0))\n",
    "\n",
    "plt.tight_layout();"
   ]
  },
  {
   "cell_type": "markdown",
   "metadata": {},
   "source": [
    "## Three thresholds - four bands"
   ]
  },
  {
   "cell_type": "code",
   "execution_count": 23,
   "metadata": {},
   "outputs": [],
   "source": [
    "thrs_vector = three_thrs\n",
    "opinions_per_3thrs = Array{Array{Int, 1}, 1}()\n",
    ";"
   ]
  },
  {
   "cell_type": "code",
   "execution_count": 25,
   "metadata": {},
   "outputs": [],
   "source": [
    "for thr in thrs_vector\n",
    "    opinions = Array{Int, 1}()\n",
    " \n",
    "    for last_op in last_opinions\n",
    "        binned_op = GrootSim._binning_opinions([last_op], thr)\n",
    " \n",
    "         length(something.(binned_op)) > 1 && println(\"error\")\n",
    " \n",
    "        push!(opinions, something.(binned_op)[1])\n",
    "    end\n",
    " \n",
    "     push!(opinions_per_3thrs, opinions)\n",
    " end"
   ]
  },
  {
   "cell_type": "code",
   "execution_count": 26,
   "metadata": {},
   "outputs": [
    {
     "data": {
      "text/plain": [
       "84-element Vector{Vector{Float64}}:\n",
       " [0.35003066857493353, 0.05295440605193212, 0.086485381312615, 0.5105295440605193]\n",
       " [0.35003066857493353, 0.05295440605193212, 0.10216043072309684, 0.4948544946500375]\n",
       " [0.35003066857493353, 0.05295440605193212, 0.11606351802630682, 0.4809514073468275]\n",
       " [0.35003066857493353, 0.05295440605193212, 0.3361957336604648, 0.26081919171266954]\n",
       " [0.35003066857493353, 0.05295440605193212, 0.3542561166768895, 0.2427588086962448]\n",
       " [0.35003066857493353, 0.05295440605193212, 0.41348054249301436, 0.18353438288011995]\n",
       " [0.35003066857493353, 0.05295440605193212, 0.4722960539766919, 0.12471887139644244]\n",
       " [0.35003066857493353, 0.13943978736454712, 0.015675049410481836, 0.4948544946500375]\n",
       " [0.35003066857493353, 0.13943978736454712, 0.029578136713691815, 0.4809514073468275]\n",
       " [0.35003066857493353, 0.13943978736454712, 0.2497103523478498, 0.26081919171266954]\n",
       " [0.35003066857493353, 0.13943978736454712, 0.26777073536427454, 0.2427588086962448]\n",
       " [0.35003066857493353, 0.13943978736454712, 0.3269951611803994, 0.18353438288011995]\n",
       " [0.35003066857493353, 0.13943978736454712, 0.38581067266407687, 0.12471887139644244]\n",
       " ⋮\n",
       " [0.5051455053499625, 0.25209568595379267, 0.11803993729980236, 0.12471887139644244]\n",
       " [0.5051455053499625, 0.31132011176991753, 0.0588155114836775, 0.12471887139644244]\n",
       " [0.5190485926531725, 0.22013221563415797, 0.018060383016424725, 0.2427588086962448]\n",
       " [0.5190485926531725, 0.22013221563415797, 0.07728480883254958, 0.18353438288011995]\n",
       " [0.5190485926531725, 0.22013221563415797, 0.1361003203162271, 0.12471887139644244]\n",
       " [0.5190485926531725, 0.2381925986505827, 0.05922442581612485, 0.18353438288011995]\n",
       " [0.5190485926531725, 0.2381925986505827, 0.11803993729980236, 0.12471887139644244]\n",
       " [0.5190485926531725, 0.29741702446670754, 0.0588155114836775, 0.12471887139644244]\n",
       " [0.7391808082873305, 0.018060383016424725, 0.05922442581612485, 0.18353438288011995]\n",
       " [0.7391808082873305, 0.018060383016424725, 0.11803993729980236, 0.12471887139644244]\n",
       " [0.7391808082873305, 0.07728480883254958, 0.0588155114836775, 0.12471887139644244]\n",
       " [0.7572411913037552, 0.05922442581612485, 0.0588155114836775, 0.12471887139644244]"
      ]
     },
     "execution_count": 26,
     "metadata": {},
     "output_type": "execute_result"
    }
   ],
   "source": [
    "# prepare the data to plot -> stacked bar chart\n",
    "data_to_plot_three_thrs = prepare_data(opinions_per_3thrs, 3)"
   ]
  },
  {
   "cell_type": "code",
   "execution_count": 27,
   "metadata": {},
   "outputs": [
    {
     "data": {
      "image/png": "[encoded data removed]",
      "text/plain": [
       "Figure(PyObject <Figure size 1800x800 with 1 Axes>)"
      ]
     },
     "metadata": {},
     "output_type": "display_data"
    }
   ],
   "source": [
    "clf()\n",
    "\n",
    "fig, ax = plt.subplots(1, 1, figsize=(18, 8))\n",
    "\n",
    "labels = [\"negative\", \"toward_negative\", \"toward_positive\", \"positive\"]\n",
    "colors = [\"blue\", \"orange\", \"yellow\", \"green\"]\n",
    "width = 1\n",
    "\n",
    "generate_bar_plot(ax, data_to_plot_three_thrs)\n",
    "\n",
    "# # x infos\n",
    "# # set x axis labels\n",
    "ax.set_xlabel(\"Thresholds\")\n",
    "ax.set_xticks(1:length(three_thrs))\n",
    "ax.set_xticklabels(three_thrs_labels, rotation=90)\n",
    "\n",
    "# # set y axis labels\n",
    "ax.set_ylabel(\"Fraction of users\")\n",
    "\n",
    "# # set titles\n",
    "ax.set_title(\"User opinions distribution\")\n",
    "\n",
    "ax.legend(labels, loc=\"upper right\", bbox_to_anchor=(1.17, 1.0))\n",
    "\n",
    "plt.tight_layout();"
   ]
  },
  {
   "cell_type": "code",
   "execution_count": null,
   "metadata": {},
   "outputs": [],
   "source": []
  }
 ],
 "metadata": {
  "kernelspec": {
   "display_name": "Julia 1.10.1",
   "language": "julia",
   "name": "julia-1.10"
  },
  "language_info": {
   "file_extension": ".jl",
   "mimetype": "application/julia",
   "name": "julia",
   "version": "1.10.1"
  }
 },
 "nbformat": 4,
 "nbformat_minor": 2
}
