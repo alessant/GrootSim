{
 "cells": [
  {
   "cell_type": "code",
   "execution_count": 22,
   "id": "a1a994f0",
   "metadata": {},
   "outputs": [],
   "source": [
    "using CSV\n",
    "using DataFrames\n",
    "\n",
    "using DotEnv\n",
    "DotEnv.load!()\n",
    "\n",
    "using PyCall\n",
    "np = pyimport(\"numpy\")\n",
    "counter = pyimport(\"collections\").Counter;\n",
    "sklearn_metrics = pyimport(\"sklearn.metrics\")\n",
    "\n",
    "using PyPlot\n",
    "\n",
    "using Combinatorics\n",
    "using LinearAlgebra\n",
    "using Statistics"
   ]
  },
  {
   "cell_type": "markdown",
   "id": "a6a16a39",
   "metadata": {},
   "source": [
    "## Spinos dataset - Climate change-related content\n",
    "PAPER: https://aclanthology.org/2022.lrec-1.405.pdf"
   ]
  },
  {
   "cell_type": "code",
   "execution_count": 38,
   "id": "0307a46d",
   "metadata": {},
   "outputs": [],
   "source": [
    "spinos_df = CSV.read(ENV[\"SPINOS_PATH\"], DataFrame);"
   ]
  },
  {
   "cell_type": "code",
   "execution_count": 44,
   "id": "e4d67577",
   "metadata": {},
   "outputs": [
    {
     "data": {
      "text/html": [
       "<div><div style = \"float: left;\"><span>1×14 DataFrame</span></div><div style = \"clear: both;\"></div></div><div class = \"data-frame\" style = \"overflow-x: scroll;\"><table class = \"data-frame\" style = \"margin-bottom: 6px;\"><thead><tr class = \"header\"><th class = \"rowNumber\" style = \"font-weight: bold; text-align: right;\">Row</th><th style = \"text-align: left;\">author_id</th><th style = \"text-align: left;\">title</th><th style = \"text-align: left;\">content</th><th style = \"text-align: left;\">annotation</th><th style = \"text-align: left;\">topic</th><th style = \"text-align: left;\">subreddit</th><th style = \"text-align: left;\">is_sarcastic</th><th style = \"text-align: left;\">is_unsure</th><th style = \"text-align: left;\">is_explicit</th><th style = \"text-align: left;\">top_level_post</th><th style = \"text-align: left;\">top_level_post_id</th><th style = \"text-align: left;\">parents</th><th style = \"text-align: left;\">parent_ids</th><th style = \"text-align: left;\">timestamp</th></tr><tr class = \"subheader headerLastRow\"><th class = \"rowNumber\" style = \"font-weight: bold; text-align: right;\"></th><th title = \"String\" style = \"text-align: left;\">String</th><th title = \"Union{Missing, String}\" style = \"text-align: left;\">String?</th><th title = \"String\" style = \"text-align: left;\">String</th><th title = \"String31\" style = \"text-align: left;\">String31</th><th title = \"String15\" style = \"text-align: left;\">String15</th><th title = \"String31\" style = \"text-align: left;\">String31</th><th title = \"Union{Missing, String3}\" style = \"text-align: left;\">String3?</th><th title = \"Union{Missing, String3}\" style = \"text-align: left;\">String3?</th><th title = \"Union{Missing, String3}\" style = \"text-align: left;\">String3?</th><th title = \"String3\" style = \"text-align: left;\">String3</th><th title = \"Union{Missing, String7}\" style = \"text-align: left;\">String7?</th><th title = \"String3\" style = \"text-align: left;\">String3</th><th title = \"Union{Missing, String}\" style = \"text-align: left;\">String?</th><th title = \"String31\" style = \"text-align: left;\">String31</th></tr></thead><tbody><tr><td class = \"rowNumber\" style = \"font-weight: bold; text-align: right;\">1</td><td style = \"text-align: left;\">475e2075e3f4ab3c4b92fd54d96e08464a00803a1b0aaec6703a5eff877f1e88</td><td style = \"font-style: italic; text-align: left;\">missing</td><td style = \"text-align: left;\">Why is it impossible to have a normal conversation with you? As soon as you are presented some (new?) information, you react evasively. Would it be so bad to have some new information?</td><td style = \"text-align: left;\">stance_not_inferrable</td><td style = \"text-align: left;\">climate-change</td><td style = \"text-align: left;\">r/climatechange</td><td style = \"font-style: italic; text-align: left;\">missing</td><td style = \"font-style: italic; text-align: left;\">missing</td><td style = \"font-style: italic; text-align: left;\">missing</td><td style = \"text-align: left;\">1</td><td style = \"font-style: italic; text-align: left;\">missing</td><td style = \"text-align: left;\">1</td><td style = \"font-style: italic; text-align: left;\">missing</td><td style = \"text-align: left;\">2020-01-07 22:44:40</td></tr></tbody></table></div>"
      ],
      "text/latex": [
       "\\begin{tabular}{r|cccc}\n",
       "\t& author\\_id & title & content & \\\\\n",
       "\t\\hline\n",
       "\t& String & String? & String & \\\\\n",
       "\t\\hline\n",
       "\t1 & 475e2075e3f4ab3c4b92fd54d96e08464a00803a1b0aaec6703a5eff877f1e88 & \\emph{missing} & Why is it impossible to have a normal conversation with you? As soon as you are presented some (new?) information, you react evasively. Would it be so bad to have some new information? & $\\dots$ \\\\\n",
       "\\end{tabular}\n"
      ],
      "text/plain": [
       "\u001b[1m1×14 DataFrame\u001b[0m\n",
       "\u001b[1m Row \u001b[0m│\u001b[1m author_id                         \u001b[0m\u001b[1m title   \u001b[0m\u001b[1m content                    \u001b[0m ⋯\n",
       "     │\u001b[90m String                            \u001b[0m\u001b[90m String? \u001b[0m\u001b[90m String                     \u001b[0m ⋯\n",
       "─────┼──────────────────────────────────────────────────────────────────────────\n",
       "   1 │ 475e2075e3f4ab3c4b92fd54d96e0846… \u001b[90m missing \u001b[0m Why is it impossible to hav ⋯\n",
       "\u001b[36m                                                              12 columns omitted\u001b[0m"
      ]
     },
     "metadata": {},
     "output_type": "display_data"
    }
   ],
   "source": [
    "first(spinos_df, 1)"
   ]
  },
  {
   "cell_type": "code",
   "execution_count": 90,
   "id": "45a4ad5e",
   "metadata": {},
   "outputs": [
    {
     "data": {
      "text/plain": [
       "(243, 14)"
      ]
     },
     "metadata": {},
     "output_type": "display_data"
    }
   ],
   "source": [
    "size(spinos_df)"
   ]
  },
  {
   "cell_type": "code",
   "execution_count": 45,
   "id": "698e3f8b",
   "metadata": {},
   "outputs": [],
   "source": [
    "stance_categories = [\"s_against\", \"against\", \"favor\", \"s_favor\", \"undecided\", \"stance_not_inferrable\"];"
   ]
  },
  {
   "cell_type": "code",
   "execution_count": 49,
   "id": "4c85e04c",
   "metadata": {},
   "outputs": [
    {
     "data": {
      "text/plain": [
       "Dict{Any, Any} with 6 entries:\n",
       "  \"s_favor\"               => 18\n",
       "  \"against\"               => 35\n",
       "  \"favor\"                 => 44\n",
       "  \"undecided\"             => 11\n",
       "  \"stance_not_inferrable\" => 124\n",
       "  \"s_against\"             => 11"
      ]
     },
     "metadata": {},
     "output_type": "display_data"
    }
   ],
   "source": [
    "annotations = spinos_df[!, \"annotation\"]\n",
    "annotations_count = counter(annotations)"
   ]
  },
  {
   "cell_type": "code",
   "execution_count": 50,
   "id": "5bfd4c35",
   "metadata": {},
   "outputs": [
    {
     "data": {
      "image/png": "[encoded data removed]",
      "text/plain": [
       "Figure(PyObject <Figure size 500x400 with 1 Axes>)"
      ]
     },
     "metadata": {},
     "output_type": "display_data"
    }
   ],
   "source": [
    "# distribution of the stance categories\n",
    "PyPlot.figure(figsize=(5, 4))\n",
    "\n",
    "PyPlot.bar(stance_categories, [annotations_count[cat] for cat in stance_categories], color=\"blue\", alpha=0.7)\n",
    "\n",
    "PyPlot.title(\"Number of annotations per stance category\")\n",
    "# PyPlot.xlabel(\"Stance Categories\")\n",
    "PyPlot.ylabel(\"Count\")\n",
    "\n",
    "PyPlot.xticks(rotation=90)\n",
    "PyPlot.grid(axis=\"y\", linestyle=\"--\", alpha=0.7)\n",
    "\n",
    "PyPlot.tight_layout()\n",
    "PyPlot.gcf()"
   ]
  },
  {
   "cell_type": "code",
   "execution_count": 51,
   "id": "f5608225",
   "metadata": {},
   "outputs": [
    {
     "data": {
      "text/plain": [
       "Dict{Any, Any} with 3 entries:\n",
       "  \"r/climate\"         => 25\n",
       "  \"r/climateskeptics\" => 120\n",
       "  \"r/climatechange\"   => 98"
      ]
     },
     "metadata": {},
     "output_type": "display_data"
    }
   ],
   "source": [
    "subreddits = spinos_df[!, \"subreddit\"]\n",
    "subreddits_count = counter(subreddits)"
   ]
  },
  {
   "cell_type": "markdown",
   "id": "eb8f4615",
   "metadata": {},
   "source": [
    "## Loading GPT labels"
   ]
  },
  {
   "cell_type": "code",
   "execution_count": 23,
   "id": "46754c72",
   "metadata": {},
   "outputs": [],
   "source": [
    "gpt3_output_df = CSV.read(ENV[\"GPT3_LABELS\"], DataFrame);\n",
    "gpt4_output_df = CSV.read(ENV[\"GPT4_LABELS\"], DataFrame);"
   ]
  },
  {
   "cell_type": "code",
   "execution_count": 24,
   "id": "dfb8db9e",
   "metadata": {},
   "outputs": [
    {
     "data": {
      "text/plain": [
       "((138, 15), (138, 15))"
      ]
     },
     "metadata": {},
     "output_type": "display_data"
    }
   ],
   "source": [
    "size(gpt3_output_df), size(gpt4_output_df)"
   ]
  },
  {
   "cell_type": "code",
   "execution_count": 4,
   "id": "3bc19c24",
   "metadata": {},
   "outputs": [
    {
     "data": {
      "text/html": [
       "<div><div style = \"float: left;\"><span>2×15 DataFrame</span></div><div style = \"clear: both;\"></div></div><div class = \"data-frame\" style = \"overflow-x: scroll;\"><table class = \"data-frame\" style = \"margin-bottom: 6px;\"><thead><tr class = \"header\"><th class = \"rowNumber\" style = \"font-weight: bold; text-align: right;\">Row</th><th style = \"text-align: left;\">author_id</th><th style = \"text-align: left;\">title</th><th style = \"text-align: left;\">content</th><th style = \"text-align: left;\">annotation</th><th style = \"text-align: left;\">topic</th><th style = \"text-align: left;\">subreddit</th><th style = \"text-align: left;\">is_sarcastic</th><th style = \"text-align: left;\">is_unsure</th><th style = \"text-align: left;\">is_explicit</th><th style = \"text-align: left;\">top_level_post</th><th style = \"text-align: left;\">top_level_post_id</th><th style = \"text-align: left;\">parents</th><th style = \"text-align: left;\">parent_ids</th><th style = \"text-align: left;\">timestamp</th><th style = \"text-align: left;\">predicted_stance_scores</th></tr><tr class = \"subheader headerLastRow\"><th class = \"rowNumber\" style = \"font-weight: bold; text-align: right;\"></th><th title = \"String\" style = \"text-align: left;\">String</th><th title = \"Union{Missing, String}\" style = \"text-align: left;\">String?</th><th title = \"String\" style = \"text-align: left;\">String</th><th title = \"String31\" style = \"text-align: left;\">String31</th><th title = \"String15\" style = \"text-align: left;\">String15</th><th title = \"String31\" style = \"text-align: left;\">String31</th><th title = \"Union{Missing, String3}\" style = \"text-align: left;\">String3?</th><th title = \"Union{Missing, String3}\" style = \"text-align: left;\">String3?</th><th title = \"Union{Missing, String3}\" style = \"text-align: left;\">String3?</th><th title = \"String3\" style = \"text-align: left;\">String3</th><th title = \"Union{Missing, String7}\" style = \"text-align: left;\">String7?</th><th title = \"String3\" style = \"text-align: left;\">String3</th><th title = \"Union{Missing, String}\" style = \"text-align: left;\">String?</th><th title = \"String31\" style = \"text-align: left;\">String31</th><th title = \"String7\" style = \"text-align: left;\">String7</th></tr></thead><tbody><tr><td class = \"rowNumber\" style = \"font-weight: bold; text-align: right;\">1</td><td style = \"text-align: left;\">8b85933a25ccc437444d48dcd8fbb0d82d997db28b50cb8c93b6f1cb030c64c2</td><td style = \"font-style: italic; text-align: left;\">missing</td><td style = \"text-align: left;\">They are connected.  The best way to provoke is through fear, and we are being overdosed with fear, of the weather, the police, a virus, economic hard times, etc, etc.  Oddly though, it seems like the fear of one thing is contradicting the other.  Like Covid-19 is so highly infectious, yet there are crowds of protesters in every major US city no longer social distancing, which was supposed to be so necessary to avoid it&apos;s spread.  For instance, almost [none of the protesters in Seattle tested appear to be positive](https://komonews.com/news/local/fewer-than-1-of-seattle-protesters-test-positive-for-coronavirus).  As well, the research behind hydroxychloroquine which was deemed as ineffective and dangerous to use in treating Covid-19, looks to have been a complete sham orchestrated by a one-man company called Surgisphere.  Somehow those esteened medical journals the Lancet and NEJM, published obviously fraudulent papers that were never peer-reviewed, if peer-review means anything at all.  So you can just imagine how much BS climate papers get published.</td><td style = \"text-align: left;\">against</td><td style = \"text-align: left;\">climate-change</td><td style = \"text-align: left;\">r/climateskeptics</td><td style = \"text-align: left;\">No</td><td style = \"text-align: left;\">No</td><td style = \"text-align: left;\">No</td><td style = \"text-align: left;\">No</td><td style = \"text-align: left;\">h7qmqy</td><td style = \"text-align: left;\">0</td><td style = \"text-align: left;\">[&apos;funkrzc&apos;, &apos;funlh7z&apos;]</td><td style = \"text-align: left;\">2020-06-13 02:27:21</td><td style = \"text-align: left;\">0.1</td></tr><tr><td class = \"rowNumber\" style = \"font-weight: bold; text-align: right;\">2</td><td style = \"text-align: left;\">b066f2f2eb9da3ba5756c2bc906d52cc565076af784fae47303466c6dc2a517b</td><td style = \"font-style: italic; text-align: left;\">missing</td><td style = \"text-align: left;\">The arctic will be ice free by 2013.  There, that&apos;s one.  Or, do you mean only predictions made in published science articles that were written by people with PhDs in Climate Science?  If you are going to narrow it down to that very specific, I might have to do 5 mintues of research.  I don&apos;t rail against the predictions of climate scientists that are published in respectable journals, per se, but at the entirety of the climate reporting and hysteria that happens.  I can&apos;t object to incorrect predictions and claims that are published in mainstream media?</td><td style = \"text-align: left;\">against</td><td style = \"text-align: left;\">climate-change</td><td style = \"text-align: left;\">r/climateskeptics</td><td style = \"text-align: left;\">No</td><td style = \"text-align: left;\">No</td><td style = \"text-align: left;\">No</td><td style = \"text-align: left;\">No</td><td style = \"text-align: left;\">hnfssi</td><td style = \"text-align: left;\">No</td><td style = \"text-align: left;\">[&apos;fxbgekf&apos;, &apos;fxbi5yx&apos;]</td><td style = \"text-align: left;\">2020-07-08 20:36:38</td><td style = \"text-align: left;\">0.2</td></tr></tbody></table></div>"
      ],
      "text/latex": [
       "\\begin{tabular}{r|cccc}\n",
       "\t& author\\_id & title & content & \\\\\n",
       "\t\\hline\n",
       "\t& String & String? & String & \\\\\n",
       "\t\\hline\n",
       "\t1 & 8b85933a25ccc437444d48dcd8fbb0d82d997db28b50cb8c93b6f1cb030c64c2 & \\emph{missing} & They are connected.  The best way to provoke is through fear, and we are being overdosed with fear, of the weather, the police, a virus, economic hard times, etc, etc.  Oddly though, it seems like the fear of one thing is contradicting the other.  Like Covid-19 is so highly infectious, yet there are crowds of protesters in every major US city no longer social distancing, which was supposed to be so necessary to avoid it's spread.  For instance, almost [none of the protesters in Seattle tested appear to be positive](https://komonews.com/news/local/fewer-than-1-of-seattle-protesters-test-positive-for-coronavirus).  As well, the research behind hydroxychloroquine which was deemed as ineffective and dangerous to use in treating Covid-19, looks to have been a complete sham orchestrated by a one-man company called Surgisphere.  Somehow those esteened medical journals the Lancet and NEJM, published obviously fraudulent papers that were never peer-reviewed, if peer-review means anything at all.  So you can just imagine how much BS climate papers get published. & $\\dots$ \\\\\n",
       "\t2 & b066f2f2eb9da3ba5756c2bc906d52cc565076af784fae47303466c6dc2a517b & \\emph{missing} & The arctic will be ice free by 2013.  There, that's one.  Or, do you mean only predictions made in published science articles that were written by people with PhDs in Climate Science?  If you are going to narrow it down to that very specific, I might have to do 5 mintues of research.  I don't rail against the predictions of climate scientists that are published in respectable journals, per se, but at the entirety of the climate reporting and hysteria that happens.  I can't object to incorrect predictions and claims that are published in mainstream media? & $\\dots$ \\\\\n",
       "\\end{tabular}\n"
      ],
      "text/plain": [
       "\u001b[1m2×15 DataFrame\u001b[0m\n",
       "\u001b[1m Row \u001b[0m│\u001b[1m author_id                         \u001b[0m\u001b[1m title   \u001b[0m\u001b[1m content                    \u001b[0m ⋯\n",
       "     │\u001b[90m String                            \u001b[0m\u001b[90m String? \u001b[0m\u001b[90m String                     \u001b[0m ⋯\n",
       "─────┼──────────────────────────────────────────────────────────────────────────\n",
       "   1 │ 8b85933a25ccc437444d48dcd8fbb0d8… \u001b[90m missing \u001b[0m They are connected.  The be ⋯\n",
       "   2 │ b066f2f2eb9da3ba5756c2bc906d52cc… \u001b[90m missing \u001b[0m The arctic will be ice free\n",
       "\u001b[36m                                                              13 columns omitted\u001b[0m"
      ]
     },
     "metadata": {},
     "output_type": "display_data"
    }
   ],
   "source": [
    "first(gpt3_output_df, 2)"
   ]
  },
  {
   "cell_type": "markdown",
   "id": "a8141836",
   "metadata": {},
   "source": [
    "## Utils"
   ]
  },
  {
   "cell_type": "code",
   "execution_count": 5,
   "id": "35e8b104",
   "metadata": {},
   "outputs": [],
   "source": [
    "labels = [0, 1, 2, 3, 4]\n",
    "target_names = [\"Strong_disagree\", \"Disagree\", \"Neutral/Stance_not_inferrable\", \"Agree\", \"Strong_agree\"]\n",
    "ticks = [round(val, digits=2) for val in range(0.05, 1.0, step=0.05)];"
   ]
  },
  {
   "cell_type": "code",
   "execution_count": 6,
   "id": "b2422ff2",
   "metadata": {},
   "outputs": [
    {
     "data": {
      "text/plain": [
       "eval_inversions (generic function with 1 method)"
      ]
     },
     "metadata": {},
     "output_type": "display_data"
    }
   ],
   "source": [
    "function eval_inversions(true_labels, predicted_labels)\n",
    "    cnt = 0\n",
    "    \n",
    "    for i in 1:length(true_labels)\n",
    "        true_val = true_labels[i]\n",
    "        pred = predicted_labels[i]\n",
    "        \n",
    "        neg = Set([0, 1])\n",
    "        pos = Set([3, 4])\n",
    "        \n",
    "        if (true_val in pos && pred in neg) || (true_val in neg && pred in pos)\n",
    "            cnt += 1\n",
    "        end\n",
    "    end\n",
    "    \n",
    "    return cnt\n",
    "end"
   ]
  },
  {
   "cell_type": "code",
   "execution_count": 7,
   "id": "51cfc0ec",
   "metadata": {},
   "outputs": [
    {
     "data": {
      "text/plain": [
       "my_auc (generic function with 1 method)"
      ]
     },
     "metadata": {},
     "output_type": "display_data"
    }
   ],
   "source": [
    "function my_auc(true_labels, predicted_scores)\n",
    "    sorted_scores_id = sortperm(predicted_scores, rev=true)\n",
    "    \n",
    "    cnt = 0\n",
    "    total = 0\n",
    "    \n",
    "    for (index, i) in enumerate(sorted_scores_id)\n",
    "        for j in sorted_scores_id[index+1:end]\n",
    "            true_labels[i] == true_labels[j] && continue\n",
    "            \n",
    "            total += 1\n",
    "            \n",
    "            if true_labels[i] > true_labels[j]\n",
    "                cnt += 1\n",
    "            end\n",
    "        end\n",
    "    end\n",
    "    \n",
    "    return cnt / total\n",
    "end"
   ]
  },
  {
   "cell_type": "code",
   "execution_count": 15,
   "id": "4667e4e5",
   "metadata": {},
   "outputs": [
    {
     "data": {
      "text/plain": [
       "find_best_thrs (generic function with 2 methods)"
      ]
     },
     "metadata": {},
     "output_type": "display_data"
    }
   ],
   "source": [
    "function find_best_thrs(true_labels_classes, predicted_scores, target_names, ni_indices, ticks, r=4)\n",
    "    best_k = 0\n",
    "    best_comb_k = nothing\n",
    "\n",
    "    best_acc = 0\n",
    "    best_comb_acc = nothing\n",
    "    best_cm = nothing\n",
    "    best_cr = nothing\n",
    "\n",
    "    best_RMSE = Inf\n",
    "    best_comb_RMSE = nothing\n",
    "\n",
    "    best_inversions = Inf\n",
    "    best_comb_inversions = nothing\n",
    "\n",
    "    best_auc = 0\n",
    "    best_comb_auc = nothing\n",
    "\n",
    "    done = 0\n",
    "    \n",
    "    # Calculate total combinations for progress tracking\n",
    "    n_comb = binomial(length(ticks), r)\n",
    "\n",
    "    for comb in combinations(ticks, r)\n",
    "        # Calculate NI score\n",
    "        ni_score = ticks[1] + (ticks[2] - ticks[1])/2 #(ticks[1] + ticks[2]) / 2\n",
    "        _predicted_scores = [typeof(score) <: Number ? Float64(score) : ni_score for score in predicted_scores]\n",
    "\n",
    "        # Binning\n",
    "        bins = np.digitize(_predicted_scores, bins=comb)\n",
    "\n",
    "        # Set 'NI' class to a number\n",
    "        for i in ni_indices\n",
    "            bins[i] = 2  # neutral\n",
    "        end\n",
    "\n",
    "        k = sklearn_metrics.cohen_kappa_score(true_labels_classes, bins, labels=labels, weights=\"quadratic\")\n",
    "        acc = sklearn_metrics.accuracy_score(true_labels_classes, bins)\n",
    "        rmse = sqrt(sklearn_metrics.mean_squared_error(true_labels_classes, bins))\n",
    "        inv = eval_inversions(true_labels_classes, bins)\n",
    "        auc = my_auc(true_labels_classes, _predicted_scores)\n",
    "        \n",
    "        if k > best_k\n",
    "            best_k = k\n",
    "            best_comb_k = comb\n",
    "        end\n",
    "\n",
    "        if acc > best_acc\n",
    "            best_acc = acc\n",
    "            best_comb_acc = comb\n",
    "            best_cm = sklearn_metrics.confusion_matrix(true_labels_classes, bins, labels=labels)\n",
    "            best_cr = sklearn_metrics.classification_report(true_labels_classes, bins, labels=labels, target_names=target_names)\n",
    "        end\n",
    "\n",
    "        if rmse < best_RMSE\n",
    "            best_RMSE = rmse\n",
    "            best_comb_RMSE = comb\n",
    "        end\n",
    "\n",
    "        if inv < best_inversions\n",
    "            best_inversions = inv\n",
    "            best_comb_inversions = comb\n",
    "        end\n",
    "\n",
    "        if auc > best_auc\n",
    "            best_auc = auc\n",
    "            best_comb_auc = comb\n",
    "        end\n",
    "\n",
    "        done += 1\n",
    "\n",
    "        if done % 1000 == 0\n",
    "            println(\"$done/$n_comb\")\n",
    "        end\n",
    "    end\n",
    "\n",
    "    to_return = Dict(\n",
    "        \"best_k\" => best_k,\n",
    "        \"best_comb_k\" => best_comb_k,\n",
    "        \"best_acc\" => best_acc,\n",
    "        \"best_comb_acc\" => best_comb_acc,\n",
    "        \"best_cm\" => best_cm,\n",
    "        \"best_cr\" => best_cr,\n",
    "        \"best_RMSE\" => best_RMSE,\n",
    "        \"best_comb_RMSE\" => best_comb_RMSE,\n",
    "        \"best_inversions\" => best_inversions,\n",
    "        \"best_comb_inversions\" => best_comb_inversions,\n",
    "        \"best_auc\" => best_auc,\n",
    "        \"best_comb_auc\" => best_comb_auc\n",
    "    )\n",
    "\n",
    "    return to_return\n",
    "end"
   ]
  },
  {
   "cell_type": "markdown",
   "id": "041f1b85",
   "metadata": {},
   "source": [
    "## Evaluation"
   ]
  },
  {
   "cell_type": "code",
   "execution_count": 29,
   "id": "27b7a613",
   "metadata": {},
   "outputs": [],
   "source": [
    "gpt3_true_label_scores = map(\n",
    "    x -> Dict(\n",
    "            \"s_against\" => 0, \n",
    "            \"against\" => 1, \n",
    "            \"Neutral\" => 2, \n",
    "            \"favor\" => 3, \n",
    "            \"s_favor\" => 4, \n",
    "            \"stance_not_inferrable\" => 2)[x], \n",
    "            gpt3_output_df[!, :annotation]\n",
    "    );\n",
    "\n",
    "gpt4_true_label_scores = map(\n",
    "    x -> Dict(\n",
    "            \"s_against\" => 0, \n",
    "            \"against\" => 1, \n",
    "            \"Neutral\" => 2, \n",
    "            \"favor\" => 3, \n",
    "            \"s_favor\" => 4, \n",
    "            \"stance_not_inferrable\" => 2)[x], \n",
    "            gpt4_output_df[!, :annotation]\n",
    "    );"
   ]
  },
  {
   "cell_type": "code",
   "execution_count": 25,
   "id": "af1b7217",
   "metadata": {},
   "outputs": [],
   "source": [
    "gpt3_scores = gpt3_output_df[!, \"predicted_stance_scores\"]\n",
    "# transform the scores into floats\n",
    "gpt3_scores = [(score_str != \"NI\") ? parse(Float64, score_str) : \"NI\" for score_str in gpt3_scores];\n",
    "\n",
    "gpt4_score = gpt4_output_df[!, \"predicted_stance_scores\"]\n",
    "# transform the scores into floats\n",
    "gpt4_scores = [(score_str != \"NI\") ? parse(Float64, score_str) : \"NI\" for score_str in gpt4_score];"
   ]
  },
  {
   "cell_type": "code",
   "execution_count": 26,
   "id": "0cea9779",
   "metadata": {},
   "outputs": [],
   "source": [
    "# find all indices where NI appears\n",
    "gpt3_ni_indices = findall(x -> x == \"NI\", gpt3_scores);\n",
    "gpt4_ni_indices = findall(x -> x == \"NI\", gpt4_scores);"
   ]
  },
  {
   "cell_type": "code",
   "execution_count": null,
   "id": "814e7b18",
   "metadata": {},
   "outputs": [
    {
     "name": "stdout",
     "output_type": "stream",
     "text": [
      "1000/4845\n",
      "2000/4845\n",
      "3000/4845\n",
      "4000/4845\n"
     ]
    }
   ],
   "source": [
    "gpt3_res = find_best_thrs(\n",
    "    gpt3_true_label_scores, \n",
    "    gpt3_scores, \n",
    "    target_names, \n",
    "    gpt3_ni_indices, \n",
    "    ticks, \n",
    "    4\n",
    ");"
   ]
  },
  {
   "cell_type": "code",
   "execution_count": 30,
   "id": "71e3d597",
   "metadata": {},
   "outputs": [
    {
     "name": "stdout",
     "output_type": "stream",
     "text": [
      "1000/4845\n",
      "2000/4845\n",
      "3000/4845\n",
      "4000/4845\n"
     ]
    }
   ],
   "source": [
    "gpt4_res = find_best_thrs(\n",
    "    gpt4_true_label_scores, \n",
    "    gpt4_scores, \n",
    "    target_names, \n",
    "    gpt4_ni_indices, \n",
    "    ticks, \n",
    "    4\n",
    ");"
   ]
  },
  {
   "cell_type": "code",
   "execution_count": 21,
   "id": "6e82353d",
   "metadata": {},
   "outputs": [
    {
     "name": "stdout",
     "output_type": "stream",
     "text": [
      "Best Cohen Kappa: 0.38914936369725384\n",
      "Best Kappa Combination: [0.05, 0.25, 0.65, 0.7]\n",
      "Best Accuracy: 0.39855072463768115\n",
      "Best Confusion Matrix: [5 6 0 0 0; 8 25 0 2 0; 11 8 9 1 1; 12 13 3 14 2; 0 8 0 8 2]\n",
      "Best Classification Report:                                precision    recall  f1-score   support\n",
      "\n",
      "              Strong_disagree       0.14      0.45      0.21        11\n",
      "                     Disagree       0.42      0.71      0.53        35\n",
      "Neutral/Stance_not_inferrable       0.75      0.30      0.43        30\n",
      "                        Agree       0.56      0.32      0.41        44\n",
      "                 Strong_agree       0.40      0.11      0.17        18\n",
      "\n",
      "                     accuracy                           0.40       138\n",
      "                    macro avg       0.45      0.38      0.35       138\n",
      "                 weighted avg       0.51      0.40      0.40       138\n",
      "\n",
      "Best Accuracy Combination: [0.05, 0.55, 0.6, 1.0]\n",
      "Best RMSE: 1.4295028019803129\n",
      "Best RMSE Combination: [0.05, 0.1, 0.65, 1.0]\n",
      "Best Inversions: 14\n",
      "Best Inversions Combination: [0.05, 0.1, 0.95, 1.0]\n",
      "Best AUC: 0.6409409822534049\n"
     ]
    }
   ],
   "source": [
    "# print all results\n",
    "println(\"Best Cohen Kappa: \", gpt3_res[\"best_k\"])\n",
    "println(\"Best Kappa Combination: \", gpt3_res[\"best_comb_k\"])\n",
    "\n",
    "println(\"Best Accuracy: \", gpt3_res[\"best_acc\"])\n",
    "println(\"Best Confusion Matrix: \", gpt3_res[\"best_cm\"])\n",
    "println(\"Best Classification Report: \", gpt3_res[\"best_cr\"])\n",
    "println(\"Best Accuracy Combination: \", gpt3_res[\"best_comb_acc\"])\n",
    "\n",
    "println(\"Best RMSE: \", gpt3_res[\"best_RMSE\"])\n",
    "println(\"Best RMSE Combination: \", gpt3_res[\"best_comb_RMSE\"])\n",
    "\n",
    "println(\"Best Inversions: \", gpt3_res[\"best_inversions\"])\n",
    "println(\"Best Inversions Combination: \", gpt3_res[\"best_comb_inversions\"])\n",
    "\n",
    "println(\"Best AUC: \", gpt3_res[\"best_auc\"])"
   ]
  },
  {
   "cell_type": "code",
   "execution_count": 31,
   "id": "1840d3d8",
   "metadata": {},
   "outputs": [
    {
     "name": "stdout",
     "output_type": "stream",
     "text": [
      "Best Cohen Kappa: 0.5355648535564854\n",
      "Best Kappa Combination: [0.1, 0.45, 0.55, 0.8]\n",
      "Best Accuracy: 0.5507246376811594\n",
      "Best Confusion Matrix: [3 6 0 2 0; 1 28 3 3 0; 2 9 13 6 0; 1 10 4 29 0; 1 3 1 10 3]\n",
      "Best Classification Report:                                precision    recall  f1-score   support\n",
      "\n",
      "              Strong_disagree       0.38      0.27      0.32        11\n",
      "                     Disagree       0.50      0.80      0.62        35\n",
      "Neutral/Stance_not_inferrable       0.62      0.43      0.51        30\n",
      "                        Agree       0.58      0.66      0.62        44\n",
      "                 Strong_agree       1.00      0.17      0.29        18\n",
      "\n",
      "                     accuracy                           0.55       138\n",
      "                    macro avg       0.61      0.47      0.47       138\n",
      "                 weighted avg       0.61      0.55      0.53       138\n",
      "\n",
      "Best Accuracy Combination: [0.1, 0.45, 0.55, 0.95]\n",
      "Best RMSE: 1.0700128673207085\n",
      "Best RMSE Combination: [0.05, 0.15, 0.55, 0.95]\n",
      "Best Inversions: 2\n",
      "Best Inversions Combination: [0.05, 0.1, 0.8, 0.85]\n",
      "Best AUC: 0.719356170037144\n"
     ]
    }
   ],
   "source": [
    "# print all results\n",
    "println(\"Best Cohen Kappa: \", gpt4_res[\"best_k\"])\n",
    "println(\"Best Kappa Combination: \", gpt4_res[\"best_comb_k\"])\n",
    "\n",
    "println(\"Best Accuracy: \", gpt4_res[\"best_acc\"])\n",
    "println(\"Best Confusion Matrix: \", gpt4_res[\"best_cm\"])\n",
    "println(\"Best Classification Report: \", gpt4_res[\"best_cr\"])\n",
    "println(\"Best Accuracy Combination: \", gpt4_res[\"best_comb_acc\"])\n",
    "\n",
    "println(\"Best RMSE: \", gpt4_res[\"best_RMSE\"])\n",
    "println(\"Best RMSE Combination: \", gpt4_res[\"best_comb_RMSE\"])\n",
    "\n",
    "println(\"Best Inversions: \", gpt4_res[\"best_inversions\"])\n",
    "println(\"Best Inversions Combination: \", gpt4_res[\"best_comb_inversions\"])\n",
    "\n",
    "println(\"Best AUC: \", gpt4_res[\"best_auc\"])"
   ]
  }
 ],
 "metadata": {
  "kernelspec": {
   "display_name": "Julia 1.10.1",
   "language": "julia",
   "name": "julia-1.10"
  },
  "language_info": {
   "file_extension": ".jl",
   "mimetype": "application/julia",
   "name": "julia",
   "version": "1.10.1"
  }
 },
 "nbformat": 4,
 "nbformat_minor": 5
}
