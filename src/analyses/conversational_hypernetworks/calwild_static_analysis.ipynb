{
 "cells": [
  {
   "cell_type": "code",
   "execution_count": 1,
   "metadata": {},
   "outputs": [],
   "source": [
    "using GrootSim\n",
    "\n",
    "using CSV\n",
    "using DataFrames\n",
    "using DotEnv\n",
    "DotEnv.load!()\n",
    "using PyPlot\n",
    "using SimpleHypergraphs\n",
    "using Statistics\n",
    "\n",
    "using PyCall\n",
    "pickle = pyimport(\"pickle\");"
   ]
  },
  {
   "attachments": {},
   "cell_type": "markdown",
   "metadata": {},
   "source": [
    "#### Loading the data"
   ]
  },
  {
   "cell_type": "code",
   "execution_count": 2,
   "metadata": {},
   "outputs": [],
   "source": [
    "datapath = ENV[\"DATA_PATH\"]\n",
    "basepath = ENV[\"BASEPATH\"]\n",
    "data_to_include_path = ENV[\"DATA_TO_INCLUDE_PATH\"];"
   ]
  },
  {
   "cell_type": "code",
   "execution_count": 3,
   "metadata": {},
   "outputs": [],
   "source": [
    "# * loading the data\n",
    "reddittors_to_include = Set(pickle.load(open(joinpath(data_to_include_path, \"final_users_to_include.pkl\"))))\n",
    "subs_to_include = (pickle.load(open(joinpath(data_to_include_path, \"final_subs_to_include.pkl\"))))\n",
    "subs_to_include = Set([sub_id[4:end] for sub_id in subs_to_include]);"
   ]
  },
  {
   "cell_type": "code",
   "execution_count": 4,
   "metadata": {},
   "outputs": [
    {
     "data": {
      "text/plain": [
       "(54923, 6251)"
      ]
     },
     "metadata": {},
     "output_type": "display_data"
    }
   ],
   "source": [
    "length(reddittors_to_include), length(subs_to_include)"
   ]
  },
  {
   "attachments": {},
   "cell_type": "markdown",
   "metadata": {},
   "source": [
    "#### Build the conversational hypergraph"
   ]
  },
  {
   "cell_type": "code",
   "execution_count": 5,
   "metadata": {},
   "outputs": [],
   "source": [
    "# This hypergraph is built considering all data\n",
    "# if ignore_NI is true, then this method ignores all comments that have an associated stance labeled with NI, namely Not Inferrable\n",
    "hg, author_to_id, thread_to_id = create_subreddits_hg(\n",
    "                            datapath,\n",
    "                            subs_to_include,\n",
    "                            reddittors_to_include;\n",
    "                            ignore_NI=true,\n",
    "                        );"
   ]
  },
  {
   "cell_type": "code",
   "execution_count": 6,
   "metadata": {},
   "outputs": [
    {
     "data": {
      "text/plain": [
       "(43750, 93709)"
      ]
     },
     "metadata": {},
     "output_type": "display_data"
    }
   ],
   "source": [
    "size(hg)"
   ]
  },
  {
   "cell_type": "code",
   "execution_count": 8,
   "metadata": {},
   "outputs": [
    {
     "data": {
      "text/plain": [
       "(54922, 151176)"
      ]
     },
     "metadata": {},
     "output_type": "display_data"
    }
   ],
   "source": [
    "# (54923, 151176) \n",
    "# this size also considers NI comments\n",
    "size(hg)"
   ]
  },
  {
   "attachments": {},
   "cell_type": "markdown",
   "metadata": {},
   "source": [
    "#### Vertex degree distribution"
   ]
  },
  {
   "cell_type": "code",
   "execution_count": 7,
   "metadata": {},
   "outputs": [
    {
     "data": {
      "text/plain": [
       "5-element Vector{Float64}:\n",
       " 2.0\n",
       " 3.0\n",
       " 4.0\n",
       " 5.0\n",
       " 9.0"
      ]
     },
     "metadata": {},
     "output_type": "display_data"
    }
   ],
   "source": [
    "# vertex degree distribution\n",
    "# it counts the number of subthreads a user has contributed\n",
    "degrees = [length(gethyperedges(hg, v)) for v in 1:nhv(hg)]\n",
    "quantile!(degrees, [0.5,0.6,0.7,0.8,0.9])"
   ]
  },
  {
   "cell_type": "code",
   "execution_count": 8,
   "metadata": {},
   "outputs": [
    {
     "data": {
      "text/plain": [
       "1013"
      ]
     },
     "metadata": {},
     "output_type": "display_data"
    }
   ],
   "source": [
    "maximum(degrees)"
   ]
  },
  {
   "cell_type": "code",
   "execution_count": 9,
   "metadata": {},
   "outputs": [
    {
     "data": {
      "text/plain": [
       "15-element Vector{Int64}:\n",
       " 1013\n",
       "  706\n",
       "  645\n",
       "  583\n",
       "  535\n",
       "  511\n",
       "  481\n",
       "  435\n",
       "  420\n",
       "  402\n",
       "  389\n",
       "  356\n",
       "  345\n",
       "  342\n",
       "  336"
      ]
     },
     "metadata": {},
     "output_type": "display_data"
    }
   ],
   "source": [
    "sort(degrees, rev=true)[1:15]"
   ]
  },
  {
   "cell_type": "code",
   "execution_count": 10,
   "metadata": {},
   "outputs": [
    {
     "data": {
      "text/plain": [
       "Dict{Int64, Union{Float64, Int64}} with 199 entries:\n",
       "  56  => 0.000297143\n",
       "  35  => 0.000571429\n",
       "  60  => 0.000137143\n",
       "  308 => 2.28571e-5\n",
       "  67  => 0.000205714\n",
       "  73  => 0.000137143\n",
       "  251 => 2.28571e-5\n",
       "  115 => 2.28571e-5\n",
       "  112 => 6.85714e-5\n",
       "  420 => 2.28571e-5\n",
       "  86  => 0.000114286\n",
       "  168 => 2.28571e-5\n",
       "  207 => 2.28571e-5\n",
       "  12  => 0.00747429\n",
       "  75  => 4.57143e-5\n",
       "  23  => 0.00166857\n",
       "  111 => 4.57143e-5\n",
       "  264 => 2.28571e-5\n",
       "  41  => 0.000548571\n",
       "  ⋮   => ⋮"
      ]
     },
     "metadata": {},
     "output_type": "display_data"
    }
   ],
   "source": [
    "degree_dist = degree_histogram(hg; normalized=true) \n",
    "degree_dist"
   ]
  },
  {
   "cell_type": "code",
   "execution_count": null,
   "metadata": {},
   "outputs": [
    {
     "data": {
      "image/png": "[encoded data removed]",
      "text/plain": [
       "Figure(PyObject <Figure size 600x600 with 1 Axes>)"
      ]
     },
     "metadata": {},
     "output_type": "display_data"
    }
   ],
   "source": [
    "clf()\n",
    "\n",
    "figure(figsize=(6, 6))\n",
    "\n",
    "bar(collect(keys(degree_dist)), collect(values(degree_dist)))\n",
    "xlabel(\"Degree (i.e., number of subthreads a user has contributed)\")\n",
    "ylabel(\"Fraction of nodes\")\n",
    "\n",
    "xscale(\"log\")\n",
    "\n",
    "gcf()"
   ]
  },
  {
   "cell_type": "code",
   "execution_count": 14,
   "metadata": {},
   "outputs": [
    {
     "data": {
      "text/plain": [
       ":t2_4fzfl"
      ]
     },
     "metadata": {},
     "output_type": "display_data"
    }
   ],
   "source": [
    "# get the author with the largest number of comments\n",
    "# here, we need author data\n",
    "v_deg = [(v, length(gethyperedges(hg, v))) for v in 1:nhv(hg)]\n",
    "sort!(v_deg, by=x->x[2], rev=true)\n",
    "get_vertex_meta(hg, v_deg[1][1])"
   ]
  },
  {
   "attachments": {},
   "cell_type": "markdown",
   "metadata": {},
   "source": [
    "#### Hyperedge size distribution"
   ]
  },
  {
   "cell_type": "code",
   "execution_count": 15,
   "metadata": {},
   "outputs": [
    {
     "data": {
      "text/plain": [
       "5-element Vector{Float64}:\n",
       " 2.0\n",
       " 2.0\n",
       " 2.0\n",
       " 2.0\n",
       " 3.0"
      ]
     },
     "metadata": {},
     "output_type": "display_data"
    }
   ],
   "source": [
    "# it counts the number of users in a subthread\n",
    "sizes = [length(getvertices(hg, he)) for he in 1:nhe(hg)]\n",
    "quantile!(sizes, [0.5,0.6,0.7,0.8,0.9])"
   ]
  },
  {
   "cell_type": "code",
   "execution_count": 16,
   "metadata": {},
   "outputs": [
    {
     "data": {
      "text/plain": [
       "15-element Vector{Int64}:\n",
       " 326\n",
       " 270\n",
       " 243\n",
       " 179\n",
       " 179\n",
       " 168\n",
       " 166\n",
       " 157\n",
       " 151\n",
       " 147\n",
       " 142\n",
       " 136\n",
       " 132\n",
       " 128\n",
       " 126"
      ]
     },
     "metadata": {},
     "output_type": "display_data"
    }
   ],
   "source": [
    "sort(sizes, rev=true)[1:15]"
   ]
  },
  {
   "cell_type": "code",
   "execution_count": 17,
   "metadata": {},
   "outputs": [
    {
     "data": {
      "text/plain": [
       "Dict{Int64, Union{Float64, Int64}} with 114 entries:\n",
       "  5   => 0.0157616\n",
       "  56  => 3.2014e-5\n",
       "  55  => 6.4028e-5\n",
       "  114 => 2.13427e-5\n",
       "  35  => 9.6042e-5\n",
       "  60  => 3.2014e-5\n",
       "  30  => 0.000170741\n",
       "  32  => 0.000138727\n",
       "  6   => 0.00928406\n",
       "  136 => 1.06713e-5\n",
       "  45  => 8.53707e-5\n",
       "  67  => 1.06713e-5\n",
       "  73  => 1.06713e-5\n",
       "  64  => 3.2014e-5\n",
       "  151 => 1.06713e-5\n",
       "  4   => 0.0335613\n",
       "  13  => 0.0012272\n",
       "  63  => 4.26853e-5\n",
       "  54  => 3.2014e-5\n",
       "  ⋮   => ⋮"
      ]
     },
     "metadata": {},
     "output_type": "display_data"
    }
   ],
   "source": [
    "size_dist = size_histogram(hg; normalized=true) \n",
    "size_dist"
   ]
  },
  {
   "cell_type": "code",
   "execution_count": 18,
   "metadata": {},
   "outputs": [
    {
     "data": {
      "image/png": "[encoded data removed]",
      "text/plain": [
       "Figure(PyObject <Figure size 600x600 with 1 Axes>)"
      ]
     },
     "metadata": {},
     "output_type": "display_data"
    }
   ],
   "source": [
    "clf()\n",
    "\n",
    "figure(figsize=(6, 6)) \n",
    "\n",
    "bar(collect(keys(size_dist)), collect(values(size_dist)))\n",
    "xlabel(\"Hyperedge size (i.e., number of users in a subthread)\")\n",
    "ylabel(\"Fraction of hyperedges\")\n",
    "\n",
    "xscale(\"log\")\n",
    "\n",
    "gcf()"
   ]
  },
  {
   "cell_type": "code",
   "execution_count": 19,
   "metadata": {},
   "outputs": [
    {
     "data": {
      "text/plain": [
       ":t3_vo98nu"
      ]
     },
     "metadata": {},
     "output_type": "display_data"
    }
   ],
   "source": [
    "# get the hyperedges with the largest number of users\n",
    "he_size = [(he, length(getvertices(hg, he))) for he in 1:nhe(hg)]\n",
    "sort!(he_size, by=x->x[2], rev=true)\n",
    "get_hyperedge_meta(hg, he_size[1][1])"
   ]
  },
  {
   "attachments": {},
   "cell_type": "markdown",
   "metadata": {},
   "source": [
    "#### Other stats"
   ]
  },
  {
   "cell_type": "code",
   "execution_count": 20,
   "metadata": {},
   "outputs": [
    {
     "data": {
      "text/plain": [
       "2303-element Vector{Vector{Int64}}:\n",
       " [1, 2, 3, 361, 257, 43, 258, 12, 123, 124  …  27099, 27238, 9037, 11, 13, 14, 1132, 2653, 2913, 3005]\n",
       " [102]\n",
       " [103]\n",
       " [206]\n",
       " [248, 256]\n",
       " [313, 314]\n",
       " [326, 327]\n",
       " [393, 394]\n",
       " [402, 403]\n",
       " [459]\n",
       " ⋮\n",
       " [43583, 43584]\n",
       " [43585]\n",
       " [43586, 43587]\n",
       " [43653]\n",
       " [43655]\n",
       " [43709]\n",
       " [43710]\n",
       " [43736]\n",
       " [43745, 43746]"
      ]
     },
     "metadata": {},
     "output_type": "display_data"
    }
   ],
   "source": [
    "cc = get_connected_components(hg)"
   ]
  },
  {
   "cell_type": "code",
   "execution_count": null,
   "metadata": {},
   "outputs": [],
   "source": [
    "# cflp = CFLabelPropagationFinder(100, 1234)\n",
    "# comms = findcommunities(hg, cflp)"
   ]
  }
 ],
 "metadata": {
  "kernelspec": {
   "display_name": "Julia 1.10.1",
   "language": "julia",
   "name": "julia-1.10"
  },
  "language_info": {
   "file_extension": ".jl",
   "mimetype": "application/julia",
   "name": "julia",
   "version": "1.10.1"
  },
  "orig_nbformat": 4
 },
 "nbformat": 4,
 "nbformat_minor": 2
}
